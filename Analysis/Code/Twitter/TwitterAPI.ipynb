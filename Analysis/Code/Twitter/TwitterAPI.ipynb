{
 "cells": [
  {
   "cell_type": "markdown",
   "metadata": {},
   "source": [
    "### Twitter Sentiments for iPhone Releases\n",
    "Get the twitter feeds for the month of September for years staring (2015, 2016 & 2017)"
   ]
  },
  {
   "cell_type": "markdown",
   "metadata": {},
   "source": [
    "#### Import reqiored packages\n",
    "The code needs pyquery to be installed using `pip install pyquery`"
   ]
  },
  {
   "cell_type": "code",
   "execution_count": 8,
   "metadata": {},
   "outputs": [],
   "source": [
    "import sys,getopt,datetime,codecs\n",
    "import pyquery\n",
    "if sys.version_info[0] < 3:\n",
    "    import got\n",
    "else:\n",
    "    import got3 as got\n",
    "import pandas"
   ]
  },
  {
   "cell_type": "code",
   "execution_count": 9,
   "metadata": {},
   "outputs": [],
   "source": [
    "def receiveBuffer(tweets):\n",
    "            for t in tweets:\n",
    "                                  \n",
    "                date=t.date\n",
    "\n",
    "                retweets=t.retweets\n",
    "                    \n",
    "                if (len(t.text)<1):\n",
    "                    text=\"null\"\n",
    "                else:\n",
    "                    text=t.text\n",
    "                            \n",
    "                if (len(t.geo)<1):\n",
    "                    geo=\"null\"\n",
    "                else:\n",
    "                    geo=t.geo\n",
    "\n",
    "                mentions=t.mentions   \n",
    "                    \n",
    "                id1=t.id \n",
    "                    \n",
    "                if (len(t.hashtags)<1):\n",
    "                    hashtags=null\n",
    "                else:\n",
    "                    hashtags=t.hashtags \n",
    "                    \n",
    "                if (len(t.permalink)<1):\n",
    "                    permalink=\"null\"\n",
    "                else:\n",
    "                    permalink=t.permalink \n",
    "                    \n",
    "                favorites=t.favorites        \n",
    "\n",
    "                outputFile.write(('\\n%s;%s;%d;%d;\"%s\";%s;%s;%s;\"%s\";%s' % ( \"user\",date.strftime(\"%Y-%m-%d %H:%M\"), retweets, favorites, text, geo, mentions, hashtags, id1, permalink)))\n",
    "            outputFile.flush()\n",
    "            print('More %d saved on file...\\n' % len(tweets))"
   ]
  },
  {
   "cell_type": "code",
   "execution_count": 10,
   "metadata": {},
   "outputs": [
    {
     "name": "stdout",
     "output_type": "stream",
     "text": [
      "More 100 saved on file...\n",
      "\n",
      "More 100 saved on file...\n",
      "\n",
      "More 100 saved on file...\n",
      "\n",
      "More 100 saved on file...\n",
      "\n",
      "More 100 saved on file...\n",
      "\n",
      "More 100 saved on file...\n",
      "\n",
      "More 100 saved on file...\n",
      "\n",
      "More 100 saved on file...\n",
      "\n",
      "More 100 saved on file...\n",
      "\n",
      "More 100 saved on file...\n",
      "\n",
      "More 100 saved on file...\n",
      "\n",
      "More 100 saved on file...\n",
      "\n",
      "More 100 saved on file...\n",
      "\n",
      "More 100 saved on file...\n",
      "\n",
      "More 100 saved on file...\n",
      "\n",
      "More 100 saved on file...\n",
      "\n",
      "More 100 saved on file...\n",
      "\n",
      "More 100 saved on file...\n",
      "\n",
      "More 100 saved on file...\n",
      "\n",
      "More 100 saved on file...\n",
      "\n",
      "More 100 saved on file...\n",
      "\n",
      "More 100 saved on file...\n",
      "\n",
      "More 100 saved on file...\n",
      "\n",
      "More 100 saved on file...\n",
      "\n",
      "More 100 saved on file...\n",
      "\n",
      "More 100 saved on file...\n",
      "\n",
      "More 100 saved on file...\n",
      "\n",
      "More 100 saved on file...\n",
      "\n",
      "More 100 saved on file...\n",
      "\n",
      "More 100 saved on file...\n",
      "\n",
      "More 100 saved on file...\n",
      "\n",
      "More 100 saved on file...\n",
      "\n",
      "More 100 saved on file...\n",
      "\n",
      "More 100 saved on file...\n",
      "\n",
      "More 84 saved on file...\n",
      "\n"
     ]
    }
   ],
   "source": [
    "tweetCriteria = got.manager.TweetCriteria()\n",
    "tweetCriteria.username = \"#iphone\"\n",
    "tweetCriteria.since=\"2018-09-01\"\n",
    "tweetCriteria.until=\"2018-09-30\"\n",
    "tweetCriteria.maxTweets=100000\n",
    "outputFile = codecs.open(\"iphone_tweets_2018.csv\", \"w+\", \"utf-8\")\n",
    "outputFile.write('user;date;retweets;favorites;text;geo;mentions;hashtags;id1;permalink')\n",
    "a=got.manager.TweetManager.getTweets(tweetCriteria, receiveBuffer)\n",
    "outputFile.close()"
   ]
  }
 ],
 "metadata": {
  "kernelspec": {
   "display_name": "Python 3",
   "language": "python",
   "name": "python3"
  },
  "language_info": {
   "codemirror_mode": {
    "name": "ipython",
    "version": 3
   },
   "file_extension": ".py",
   "mimetype": "text/x-python",
   "name": "python",
   "nbconvert_exporter": "python",
   "pygments_lexer": "ipython3",
   "version": "3.7.0"
  }
 },
 "nbformat": 4,
 "nbformat_minor": 2
}
