{
 "cells": [
  {
   "cell_type": "markdown",
   "metadata": {},
   "source": [
    "### Extracting data from News API\n",
    "* Create an API key for New API\n",
    "  * Use that API to create queries.\n",
    "  * Fetch the recent articles published about \"apple\" from atleast 2 sources.\n",
    "  * For each article extract the following things – [source-id , source-name, author, title, description, content]\n",
    "  * Convert the JSON output to dataframe with each parameter as a column and each article as a row.\n",
    "  * Save the output file in csv format(\"output_api.csv\")."
   ]
  },
  {
   "cell_type": "markdown",
   "metadata": {},
   "source": [
    "#### Step 1: Secure the API Key\n",
    "* Visit the [site](https://newsapi.org/s/the-times-of-india-api) to secure the API Key\n",
    "* You will have to create an account to secure the API Key"
   ]
  },
  {
   "cell_type": "markdown",
   "metadata": {},
   "source": [
    "#### Step 2: Install the required packages\n",
    "* Open Anaconda command prompt in administrator mode and execute the following script `pip install requests` and `pip install newsapi-python`"
   ]
  },
  {
   "cell_type": "markdown",
   "metadata": {},
   "source": [
    "#### Step 3: Import the required packages\n",
    "* Import the recently installed requests, newsapi package along with json\n",
    "* These packages make it easier to work with the JSON data format and the HTTP protocol"
   ]
  },
  {
   "cell_type": "code",
   "execution_count": 1,
   "metadata": {},
   "outputs": [],
   "source": [
    "import json as js\n",
    "import requests as rq\n",
    "import pandas as pd\n",
    "from newsapi import NewsApiClient\n",
    "from pandas.io.json import json_normalize"
   ]
  },
  {
   "cell_type": "markdown",
   "metadata": {},
   "source": [
    "#### Step 4: Define common variables\n",
    "* In this example we are using the client library provided by newsapi to form and execute the HTTP request.\n",
    "* From the JSON object received, we parse individual elements and poplutae a list\n",
    "* The list is then converted to data frame\n",
    "* Finally the data frame is written back to the csv file"
   ]
  },
  {
   "cell_type": "code",
   "execution_count": 51,
   "metadata": {},
   "outputs": [
    {
     "name": "stdout",
     "output_type": "stream",
     "text": [
      "Data Collected\n"
     ]
    }
   ],
   "source": [
    "# list of news channels to iterate through\n",
    "keys = ['uri', 'domain', 'sources']\n",
    "channels = [[\"https://newsapi.org/s/fortune-api\",\"fortune.com\",\"fortune\"],\n",
    "               [\"https://newsapi.org/s/techcrunch-api\",\"techcrunch.com\",\"techcrunch\"]\n",
    "           ]\n",
    "channelList = pd.DataFrame(channels, columns=keys)\n",
    "\n",
    "# list to hold the news content\n",
    "listData = []\n",
    "# file name to write the output \n",
    "file_name = 'news_api.csv'\n",
    "# initialize client for API invocation\n",
    "newsapi = NewsApiClient(api_key='8821d2a470bb4c8d87e2e4b89d5415fb') #replace this with your API key\n",
    "\n",
    "for index, row in channelList.iterrows():\n",
    "    # /v2/Apple Inc in news \n",
    "    all_articles  = newsapi.get_everything(q='iphone',\n",
    "                                          sources= row[\"sources\"],\n",
    "                                          from_param='2018-11-25',\n",
    "                                          to='2018-12-25',\n",
    "                                          domains= row[\"domain\"],\n",
    "                                          language='en',\n",
    "                                          sort_by='relevancy')\n",
    "    \n",
    "    for article in all_articles[\"articles\"]:\n",
    "        source = article[\"source\"]\n",
    "        try:\n",
    "            publishedAt = article[\"publishedAt\"]\n",
    "        except:\n",
    "            publishedAt = \"\"\n",
    "        try:\n",
    "            sourceId = source[\"id\"]\n",
    "        except:\n",
    "            sourceId = \"\"\n",
    "        try:\n",
    "            sourceName = source[\"name\"] \n",
    "        except:\n",
    "            sourceName = \"\"\n",
    "        try:\n",
    "            author = article[\"author\"] \n",
    "        except:\n",
    "            author = \"\" \n",
    "        try:\n",
    "            title = article[\"title\"] \n",
    "        except:\n",
    "            title = \"\"\n",
    "        try:\n",
    "            description = article[\"description\"] \n",
    "        except:\n",
    "            description = \"\"\n",
    "        try:\n",
    "            content = article[\"content\"] \n",
    "        except:\n",
    "            contect = \"\"\n",
    "\n",
    "        listData.append((sourceId, sourceName, author, publishedAt, title, description, content))\n",
    "\n",
    "cols=['sourceId','sourceName','author','publishedAt','title','description','content']\n",
    "articleData = pd.DataFrame(listData, columns=cols)\n",
    "articleData.to_csv(file_name, sep=',', encoding='utf-8')\n",
    "print('Data Collected')"
   ]
  },
  {
   "cell_type": "markdown",
   "metadata": {},
   "source": [
    "#### Step 5: Validate the file is created with relevant records\n",
    "* Read the recently created csv file and insert into a data frame\n",
    "* Read the top few records from the data frame"
   ]
  },
  {
   "cell_type": "code",
   "execution_count": 52,
   "metadata": {},
   "outputs": [
    {
     "data": {
      "text/html": [
       "<div>\n",
       "<style scoped>\n",
       "    .dataframe tbody tr th:only-of-type {\n",
       "        vertical-align: middle;\n",
       "    }\n",
       "\n",
       "    .dataframe tbody tr th {\n",
       "        vertical-align: top;\n",
       "    }\n",
       "\n",
       "    .dataframe thead th {\n",
       "        text-align: right;\n",
       "    }\n",
       "</style>\n",
       "<table border=\"1\" class=\"dataframe\">\n",
       "  <thead>\n",
       "    <tr style=\"text-align: right;\">\n",
       "      <th></th>\n",
       "      <th>Unnamed: 0</th>\n",
       "      <th>sourceId</th>\n",
       "      <th>sourceName</th>\n",
       "      <th>author</th>\n",
       "      <th>publishedAt</th>\n",
       "      <th>title</th>\n",
       "      <th>description</th>\n",
       "      <th>content</th>\n",
       "    </tr>\n",
       "  </thead>\n",
       "  <tbody>\n",
       "    <tr>\n",
       "      <th>0</th>\n",
       "      <td>0</td>\n",
       "      <td>fortune</td>\n",
       "      <td>Fortune</td>\n",
       "      <td>Emily Price</td>\n",
       "      <td>2018-11-29T20:25:21Z</td>\n",
       "      <td>The iPhone XR is Apple’s ‘Best-Selling’ iPhone</td>\n",
       "      <td>The iPhone XR is currently Apple's best seller...</td>\n",
       "      <td>The iPhone XR is Apples best-selling iPhone. I...</td>\n",
       "    </tr>\n",
       "    <tr>\n",
       "      <th>1</th>\n",
       "      <td>1</td>\n",
       "      <td>fortune</td>\n",
       "      <td>Fortune</td>\n",
       "      <td>Emily Price</td>\n",
       "      <td>2018-12-04T20:55:40Z</td>\n",
       "      <td>These Are Apple’s Best iPhone and iPad Apps of...</td>\n",
       "      <td>Apple unveiled the best iPhone apps and best i...</td>\n",
       "      <td>Apple has unveiled its top iPhone and iPad app...</td>\n",
       "    </tr>\n",
       "    <tr>\n",
       "      <th>2</th>\n",
       "      <td>2</td>\n",
       "      <td>fortune</td>\n",
       "      <td>Fortune</td>\n",
       "      <td>Don Reisinger</td>\n",
       "      <td>2018-11-28T13:24:53Z</td>\n",
       "      <td>Analyst Reduces Apple’s iPhone Sales Forecast ...</td>\n",
       "      <td>Wedbush analyst Daniel Ives has reduced his iP...</td>\n",
       "      <td>Apple could have a rough year ahead, according...</td>\n",
       "    </tr>\n",
       "    <tr>\n",
       "      <th>3</th>\n",
       "      <td>3</td>\n",
       "      <td>fortune</td>\n",
       "      <td>Fortune</td>\n",
       "      <td>Chris Morris</td>\n",
       "      <td>2018-12-10T16:56:53Z</td>\n",
       "      <td>Apple’s Problems in China May Have Just Gotten...</td>\n",
       "      <td>A court decision regarding Qualcomm patents co...</td>\n",
       "      <td>The market share for Apple’s iPhone in China h...</td>\n",
       "    </tr>\n",
       "    <tr>\n",
       "      <th>4</th>\n",
       "      <td>4</td>\n",
       "      <td>fortune</td>\n",
       "      <td>Fortune</td>\n",
       "      <td>Aaron Pressman</td>\n",
       "      <td>2018-12-20T18:12:58Z</td>\n",
       "      <td>Why iPhone Sales Are—and Are Not—Banned In Two...</td>\n",
       "      <td>Apple is battling lawsuits from Qualcomm seeki...</td>\n",
       "      <td>Headlines have been blaring about a ban on iPh...</td>\n",
       "    </tr>\n",
       "  </tbody>\n",
       "</table>\n",
       "</div>"
      ],
      "text/plain": [
       "   Unnamed: 0 sourceId sourceName          author           publishedAt  \\\n",
       "0           0  fortune    Fortune     Emily Price  2018-11-29T20:25:21Z   \n",
       "1           1  fortune    Fortune     Emily Price  2018-12-04T20:55:40Z   \n",
       "2           2  fortune    Fortune   Don Reisinger  2018-11-28T13:24:53Z   \n",
       "3           3  fortune    Fortune    Chris Morris  2018-12-10T16:56:53Z   \n",
       "4           4  fortune    Fortune  Aaron Pressman  2018-12-20T18:12:58Z   \n",
       "\n",
       "                                               title  \\\n",
       "0     The iPhone XR is Apple’s ‘Best-Selling’ iPhone   \n",
       "1  These Are Apple’s Best iPhone and iPad Apps of...   \n",
       "2  Analyst Reduces Apple’s iPhone Sales Forecast ...   \n",
       "3  Apple’s Problems in China May Have Just Gotten...   \n",
       "4  Why iPhone Sales Are—and Are Not—Banned In Two...   \n",
       "\n",
       "                                         description  \\\n",
       "0  The iPhone XR is currently Apple's best seller...   \n",
       "1  Apple unveiled the best iPhone apps and best i...   \n",
       "2  Wedbush analyst Daniel Ives has reduced his iP...   \n",
       "3  A court decision regarding Qualcomm patents co...   \n",
       "4  Apple is battling lawsuits from Qualcomm seeki...   \n",
       "\n",
       "                                             content  \n",
       "0  The iPhone XR is Apples best-selling iPhone. I...  \n",
       "1  Apple has unveiled its top iPhone and iPad app...  \n",
       "2  Apple could have a rough year ahead, according...  \n",
       "3  The market share for Apple’s iPhone in China h...  \n",
       "4  Headlines have been blaring about a ban on iPh...  "
      ]
     },
     "execution_count": 52,
     "metadata": {},
     "output_type": "execute_result"
    }
   ],
   "source": [
    "data = pd.read_csv('news_api.csv', sep=',', encoding='utf-8') \n",
    "data.head()"
   ]
  }
 ],
 "metadata": {
  "kernelspec": {
   "display_name": "Python 3",
   "language": "python",
   "name": "python3"
  },
  "language_info": {
   "codemirror_mode": {
    "name": "ipython",
    "version": 3
   },
   "file_extension": ".py",
   "mimetype": "text/x-python",
   "name": "python",
   "nbconvert_exporter": "python",
   "pygments_lexer": "ipython3",
   "version": "3.7.0"
  }
 },
 "nbformat": 4,
 "nbformat_minor": 2
}
