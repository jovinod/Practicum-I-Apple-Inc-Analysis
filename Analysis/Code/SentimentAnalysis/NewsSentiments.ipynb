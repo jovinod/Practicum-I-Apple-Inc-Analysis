{
 "cells": [
  {
   "cell_type": "markdown",
   "metadata": {},
   "source": [
    "   ### Look at what the news is saying about iphone"
   ]
  },
  {
   "cell_type": "code",
   "execution_count": 1,
   "metadata": {},
   "outputs": [],
   "source": [
    "import numpy as np\n",
    "import pandas as pd\n",
    "import re\n",
    "import warnings\n",
    "import textblob\n",
    "from textblob import TextBlob \n",
    "#Visualisation\n",
    "import matplotlib.pyplot as plt\n",
    "import matplotlib\n",
    "import seaborn as sns\n",
    "from IPython.display import display\n",
    "from wordcloud import WordCloud, STOPWORDS\n",
    "\n",
    "#nltk\n",
    "from nltk.stem import WordNetLemmatizer\n",
    "from nltk.sentiment.vader import SentimentIntensityAnalyzer\n",
    "from nltk.sentiment.util import *\n",
    "from nltk import tokenize\n",
    "\n",
    "matplotlib.style.use('ggplot')\n",
    "pd.options.mode.chained_assignment = None\n",
    "warnings.filterwarnings(\"ignore\")\n",
    "\n",
    "%matplotlib inline"
   ]
  },
  {
   "cell_type": "code",
   "execution_count": 2,
   "metadata": {},
   "outputs": [],
   "source": [
    "news = pd.read_csv('../../Data/news_api.csv', encoding = \"ISO-8859-1\")"
   ]
  },
  {
   "cell_type": "code",
   "execution_count": 3,
   "metadata": {},
   "outputs": [
    {
     "data": {
      "text/html": [
       "<div>\n",
       "<style scoped>\n",
       "    .dataframe tbody tr th:only-of-type {\n",
       "        vertical-align: middle;\n",
       "    }\n",
       "\n",
       "    .dataframe tbody tr th {\n",
       "        vertical-align: top;\n",
       "    }\n",
       "\n",
       "    .dataframe thead th {\n",
       "        text-align: right;\n",
       "    }\n",
       "</style>\n",
       "<table border=\"1\" class=\"dataframe\">\n",
       "  <thead>\n",
       "    <tr style=\"text-align: right;\">\n",
       "      <th></th>\n",
       "      <th>Unnamed: 0</th>\n",
       "      <th>sourceId</th>\n",
       "      <th>sourceName</th>\n",
       "      <th>author</th>\n",
       "      <th>publishedAt</th>\n",
       "      <th>title</th>\n",
       "      <th>description</th>\n",
       "      <th>content</th>\n",
       "    </tr>\n",
       "  </thead>\n",
       "  <tbody>\n",
       "    <tr>\n",
       "      <th>0</th>\n",
       "      <td>0</td>\n",
       "      <td>fortune</td>\n",
       "      <td>Fortune</td>\n",
       "      <td>Emily Price</td>\n",
       "      <td>2018-11-29T20:25:21Z</td>\n",
       "      <td>The iPhone XR is Appleâs âBest-Sellingâ ...</td>\n",
       "      <td>The iPhone XR is currently Apple's best seller...</td>\n",
       "      <td>The iPhone XR is Apples best-selling iPhone. I...</td>\n",
       "    </tr>\n",
       "    <tr>\n",
       "      <th>1</th>\n",
       "      <td>1</td>\n",
       "      <td>fortune</td>\n",
       "      <td>Fortune</td>\n",
       "      <td>Emily Price</td>\n",
       "      <td>2018-12-04T20:55:40Z</td>\n",
       "      <td>These Are Appleâs Best iPhone and iPad Apps ...</td>\n",
       "      <td>Apple unveiled the best iPhone apps and best i...</td>\n",
       "      <td>Apple has unveiled its top iPhone and iPad app...</td>\n",
       "    </tr>\n",
       "    <tr>\n",
       "      <th>2</th>\n",
       "      <td>2</td>\n",
       "      <td>fortune</td>\n",
       "      <td>Fortune</td>\n",
       "      <td>Don Reisinger</td>\n",
       "      <td>2018-11-28T13:24:53Z</td>\n",
       "      <td>Analyst Reduces Appleâs iPhone Sales Forecas...</td>\n",
       "      <td>Wedbush analyst Daniel Ives has reduced his iP...</td>\n",
       "      <td>Apple could have a rough year ahead, according...</td>\n",
       "    </tr>\n",
       "    <tr>\n",
       "      <th>3</th>\n",
       "      <td>3</td>\n",
       "      <td>fortune</td>\n",
       "      <td>Fortune</td>\n",
       "      <td>Chris Morris</td>\n",
       "      <td>2018-12-10T16:56:53Z</td>\n",
       "      <td>Appleâs Problems in China May Have Just Gott...</td>\n",
       "      <td>A court decision regarding Qualcomm patents co...</td>\n",
       "      <td>The market share for Appleâs iPhone in China...</td>\n",
       "    </tr>\n",
       "    <tr>\n",
       "      <th>4</th>\n",
       "      <td>4</td>\n",
       "      <td>fortune</td>\n",
       "      <td>Fortune</td>\n",
       "      <td>Aaron Pressman</td>\n",
       "      <td>2018-12-20T18:12:58Z</td>\n",
       "      <td>Why iPhone Sales Areâand Are NotâBanned In...</td>\n",
       "      <td>Apple is battling lawsuits from Qualcomm seeki...</td>\n",
       "      <td>Headlines have been blaring about a ban on iPh...</td>\n",
       "    </tr>\n",
       "  </tbody>\n",
       "</table>\n",
       "</div>"
      ],
      "text/plain": [
       "   Unnamed: 0 sourceId sourceName          author           publishedAt  \\\n",
       "0           0  fortune    Fortune     Emily Price  2018-11-29T20:25:21Z   \n",
       "1           1  fortune    Fortune     Emily Price  2018-12-04T20:55:40Z   \n",
       "2           2  fortune    Fortune   Don Reisinger  2018-11-28T13:24:53Z   \n",
       "3           3  fortune    Fortune    Chris Morris  2018-12-10T16:56:53Z   \n",
       "4           4  fortune    Fortune  Aaron Pressman  2018-12-20T18:12:58Z   \n",
       "\n",
       "                                               title  \\\n",
       "0  The iPhone XR is Appleâs âBest-Sellingâ ...   \n",
       "1  These Are Appleâs Best iPhone and iPad Apps ...   \n",
       "2  Analyst Reduces Appleâs iPhone Sales Forecas...   \n",
       "3  Appleâs Problems in China May Have Just Gott...   \n",
       "4  Why iPhone Sales Areâand Are NotâBanned In...   \n",
       "\n",
       "                                         description  \\\n",
       "0  The iPhone XR is currently Apple's best seller...   \n",
       "1  Apple unveiled the best iPhone apps and best i...   \n",
       "2  Wedbush analyst Daniel Ives has reduced his iP...   \n",
       "3  A court decision regarding Qualcomm patents co...   \n",
       "4  Apple is battling lawsuits from Qualcomm seeki...   \n",
       "\n",
       "                                             content  \n",
       "0  The iPhone XR is Apples best-selling iPhone. I...  \n",
       "1  Apple has unveiled its top iPhone and iPad app...  \n",
       "2  Apple could have a rough year ahead, according...  \n",
       "3  The market share for Appleâs iPhone in China...  \n",
       "4  Headlines have been blaring about a ban on iPh...  "
      ]
     },
     "execution_count": 3,
     "metadata": {},
     "output_type": "execute_result"
    }
   ],
   "source": [
    "news.head()"
   ]
  },
  {
   "cell_type": "code",
   "execution_count": 4,
   "metadata": {},
   "outputs": [
    {
     "data": {
      "text/plain": [
       "'apple has unveiled its top iphone and ipad apps of the year the list revealed on tuesday includes the app stores hand-picked winners for everything from the best game of the year donut county for iphone and gorogoa for ipad to the best app trend of the yeaâ\\x80¦ [+996 chars]'"
      ]
     },
     "execution_count": 4,
     "metadata": {},
     "output_type": "execute_result"
    }
   ],
   "source": [
    "news['description'] = news['description'].apply(lambda x: re.sub('[!@#$:).;,?&]', '', x.lower()))\n",
    "news['description'] = news['description'].apply(lambda x: re.sub('  ', ' ', x))\n",
    "news['content'] = news['content'].apply(lambda x: re.sub('[!@#$:).;,?&]', '', x.lower()))\n",
    "news['content'] = news['content'].apply(lambda x: re.sub('  ', ' ', x))\n",
    "news['title'] = news['title'].apply(lambda x: re.sub('[!@#$:).;,?&]', '', x.lower()))\n",
    "news['title'] = news['title'].apply(lambda x: re.sub('  ', ' ', x))\n",
    "news['content'][1]"
   ]
  },
  {
   "cell_type": "code",
   "execution_count": 5,
   "metadata": {},
   "outputs": [],
   "source": [
    "news['description'] = news['description'].replace('[^A-Za-z0-9 ]+', '', regex=True)\n",
    "news['content'] = news['content'].replace('[^A-Za-z0-9 ]+', '', regex=True)\n",
    "news['title'] = news['title'].replace('[^A-Za-z0-9 ]+', '', regex=True)"
   ]
  },
  {
   "cell_type": "code",
   "execution_count": 6,
   "metadata": {},
   "outputs": [],
   "source": [
    "newsContent = news.filter(['content','publishedAt'], axis=1)"
   ]
  },
  {
   "cell_type": "code",
   "execution_count": 7,
   "metadata": {},
   "outputs": [
    {
     "data": {
      "text/html": [
       "<div>\n",
       "<style scoped>\n",
       "    .dataframe tbody tr th:only-of-type {\n",
       "        vertical-align: middle;\n",
       "    }\n",
       "\n",
       "    .dataframe tbody tr th {\n",
       "        vertical-align: top;\n",
       "    }\n",
       "\n",
       "    .dataframe thead th {\n",
       "        text-align: right;\n",
       "    }\n",
       "</style>\n",
       "<table border=\"1\" class=\"dataframe\">\n",
       "  <thead>\n",
       "    <tr style=\"text-align: right;\">\n",
       "      <th></th>\n",
       "      <th>content</th>\n",
       "      <th>publishedAt</th>\n",
       "    </tr>\n",
       "  </thead>\n",
       "  <tbody>\n",
       "    <tr>\n",
       "      <th>0</th>\n",
       "      <td>the iphone xr is apples bestselling iphone in ...</td>\n",
       "      <td>2018-11-29T20:25:21Z</td>\n",
       "    </tr>\n",
       "    <tr>\n",
       "      <th>1</th>\n",
       "      <td>apple has unveiled its top iphone and ipad app...</td>\n",
       "      <td>2018-12-04T20:55:40Z</td>\n",
       "    </tr>\n",
       "    <tr>\n",
       "      <th>2</th>\n",
       "      <td>apple could have a rough year ahead according ...</td>\n",
       "      <td>2018-11-28T13:24:53Z</td>\n",
       "    </tr>\n",
       "    <tr>\n",
       "      <th>3</th>\n",
       "      <td>the market share for apples iphone in china ha...</td>\n",
       "      <td>2018-12-10T16:56:53Z</td>\n",
       "    </tr>\n",
       "    <tr>\n",
       "      <th>4</th>\n",
       "      <td>headlines have been blaring about a ban on iph...</td>\n",
       "      <td>2018-12-20T18:12:58Z</td>\n",
       "    </tr>\n",
       "  </tbody>\n",
       "</table>\n",
       "</div>"
      ],
      "text/plain": [
       "                                             content           publishedAt\n",
       "0  the iphone xr is apples bestselling iphone in ...  2018-11-29T20:25:21Z\n",
       "1  apple has unveiled its top iphone and ipad app...  2018-12-04T20:55:40Z\n",
       "2  apple could have a rough year ahead according ...  2018-11-28T13:24:53Z\n",
       "3  the market share for apples iphone in china ha...  2018-12-10T16:56:53Z\n",
       "4  headlines have been blaring about a ban on iph...  2018-12-20T18:12:58Z"
      ]
     },
     "execution_count": 7,
     "metadata": {},
     "output_type": "execute_result"
    }
   ],
   "source": [
    "newsContent.head()"
   ]
  },
  {
   "cell_type": "code",
   "execution_count": 8,
   "metadata": {},
   "outputs": [],
   "source": [
    "newsTitle= news.filter(['title','publishedAt'], axis=1)"
   ]
  },
  {
   "cell_type": "code",
   "execution_count": 9,
   "metadata": {},
   "outputs": [
    {
     "data": {
      "text/html": [
       "<div>\n",
       "<style scoped>\n",
       "    .dataframe tbody tr th:only-of-type {\n",
       "        vertical-align: middle;\n",
       "    }\n",
       "\n",
       "    .dataframe tbody tr th {\n",
       "        vertical-align: top;\n",
       "    }\n",
       "\n",
       "    .dataframe thead th {\n",
       "        text-align: right;\n",
       "    }\n",
       "</style>\n",
       "<table border=\"1\" class=\"dataframe\">\n",
       "  <thead>\n",
       "    <tr style=\"text-align: right;\">\n",
       "      <th></th>\n",
       "      <th>title</th>\n",
       "      <th>publishedAt</th>\n",
       "    </tr>\n",
       "  </thead>\n",
       "  <tbody>\n",
       "    <tr>\n",
       "      <th>0</th>\n",
       "      <td>the iphone xr is apples bestselling iphone</td>\n",
       "      <td>2018-11-29T20:25:21Z</td>\n",
       "    </tr>\n",
       "    <tr>\n",
       "      <th>1</th>\n",
       "      <td>these are apples best iphone and ipad apps of ...</td>\n",
       "      <td>2018-12-04T20:55:40Z</td>\n",
       "    </tr>\n",
       "    <tr>\n",
       "      <th>2</th>\n",
       "      <td>analyst reduces apples iphone sales forecast o...</td>\n",
       "      <td>2018-11-28T13:24:53Z</td>\n",
       "    </tr>\n",
       "    <tr>\n",
       "      <th>3</th>\n",
       "      <td>apples problems in china may have just gotten ...</td>\n",
       "      <td>2018-12-10T16:56:53Z</td>\n",
       "    </tr>\n",
       "    <tr>\n",
       "      <th>4</th>\n",
       "      <td>why iphone sales areand are notbanned in two c...</td>\n",
       "      <td>2018-12-20T18:12:58Z</td>\n",
       "    </tr>\n",
       "  </tbody>\n",
       "</table>\n",
       "</div>"
      ],
      "text/plain": [
       "                                               title           publishedAt\n",
       "0         the iphone xr is apples bestselling iphone  2018-11-29T20:25:21Z\n",
       "1  these are apples best iphone and ipad apps of ...  2018-12-04T20:55:40Z\n",
       "2  analyst reduces apples iphone sales forecast o...  2018-11-28T13:24:53Z\n",
       "3  apples problems in china may have just gotten ...  2018-12-10T16:56:53Z\n",
       "4  why iphone sales areand are notbanned in two c...  2018-12-20T18:12:58Z"
      ]
     },
     "execution_count": 9,
     "metadata": {},
     "output_type": "execute_result"
    }
   ],
   "source": [
    "newsTitle.head()"
   ]
  },
  {
   "cell_type": "code",
   "execution_count": 10,
   "metadata": {},
   "outputs": [],
   "source": [
    "newsTitle[['polarity', 'subjectivity']] = newsTitle['title'].apply(lambda Text: pd.Series(TextBlob(Text).sentiment))"
   ]
  },
  {
   "cell_type": "code",
   "execution_count": 11,
   "metadata": {},
   "outputs": [],
   "source": [
    "newsContent[['polarity', 'subjectivity']] = newsContent['content'].apply(lambda Text: pd.Series(TextBlob(Text).sentiment))"
   ]
  },
  {
   "cell_type": "code",
   "execution_count": 12,
   "metadata": {},
   "outputs": [
    {
     "data": {
      "text/html": [
       "<div>\n",
       "<style scoped>\n",
       "    .dataframe tbody tr th:only-of-type {\n",
       "        vertical-align: middle;\n",
       "    }\n",
       "\n",
       "    .dataframe tbody tr th {\n",
       "        vertical-align: top;\n",
       "    }\n",
       "\n",
       "    .dataframe thead th {\n",
       "        text-align: right;\n",
       "    }\n",
       "</style>\n",
       "<table border=\"1\" class=\"dataframe\">\n",
       "  <thead>\n",
       "    <tr style=\"text-align: right;\">\n",
       "      <th></th>\n",
       "      <th>content</th>\n",
       "      <th>publishedAt</th>\n",
       "      <th>polarity</th>\n",
       "      <th>subjectivity</th>\n",
       "    </tr>\n",
       "  </thead>\n",
       "  <tbody>\n",
       "    <tr>\n",
       "      <th>0</th>\n",
       "      <td>the iphone xr is apples bestselling iphone in ...</td>\n",
       "      <td>2018-11-29T20:25:21Z</td>\n",
       "      <td>0.400000</td>\n",
       "      <td>0.575000</td>\n",
       "    </tr>\n",
       "    <tr>\n",
       "      <th>1</th>\n",
       "      <td>apple has unveiled its top iphone and ipad app...</td>\n",
       "      <td>2018-12-04T20:55:40Z</td>\n",
       "      <td>0.525000</td>\n",
       "      <td>0.375000</td>\n",
       "    </tr>\n",
       "    <tr>\n",
       "      <th>2</th>\n",
       "      <td>apple could have a rough year ahead according ...</td>\n",
       "      <td>2018-11-28T13:24:53Z</td>\n",
       "      <td>-0.127778</td>\n",
       "      <td>0.344444</td>\n",
       "    </tr>\n",
       "    <tr>\n",
       "      <th>3</th>\n",
       "      <td>the market share for apples iphone in china ha...</td>\n",
       "      <td>2018-12-10T16:56:53Z</td>\n",
       "      <td>-0.040278</td>\n",
       "      <td>0.533333</td>\n",
       "    </tr>\n",
       "    <tr>\n",
       "      <th>4</th>\n",
       "      <td>headlines have been blaring about a ban on iph...</td>\n",
       "      <td>2018-12-20T18:12:58Z</td>\n",
       "      <td>0.090000</td>\n",
       "      <td>0.240000</td>\n",
       "    </tr>\n",
       "  </tbody>\n",
       "</table>\n",
       "</div>"
      ],
      "text/plain": [
       "                                             content           publishedAt  \\\n",
       "0  the iphone xr is apples bestselling iphone in ...  2018-11-29T20:25:21Z   \n",
       "1  apple has unveiled its top iphone and ipad app...  2018-12-04T20:55:40Z   \n",
       "2  apple could have a rough year ahead according ...  2018-11-28T13:24:53Z   \n",
       "3  the market share for apples iphone in china ha...  2018-12-10T16:56:53Z   \n",
       "4  headlines have been blaring about a ban on iph...  2018-12-20T18:12:58Z   \n",
       "\n",
       "   polarity  subjectivity  \n",
       "0  0.400000      0.575000  \n",
       "1  0.525000      0.375000  \n",
       "2 -0.127778      0.344444  \n",
       "3 -0.040278      0.533333  \n",
       "4  0.090000      0.240000  "
      ]
     },
     "execution_count": 12,
     "metadata": {},
     "output_type": "execute_result"
    }
   ],
   "source": [
    "newsContent.head()"
   ]
  },
  {
   "cell_type": "code",
   "execution_count": 13,
   "metadata": {},
   "outputs": [],
   "source": [
    "newsContent.to_excel(\"newscontent.xlsx\")"
   ]
  },
  {
   "cell_type": "code",
   "execution_count": 14,
   "metadata": {},
   "outputs": [],
   "source": [
    "newsTitle.to_excel(\"newstitle.xlsx\")"
   ]
  }
 ],
 "metadata": {
  "kernelspec": {
   "display_name": "Python 3",
   "language": "python",
   "name": "python3"
  },
  "language_info": {
   "codemirror_mode": {
    "name": "ipython",
    "version": 3
   },
   "file_extension": ".py",
   "mimetype": "text/x-python",
   "name": "python",
   "nbconvert_exporter": "python",
   "pygments_lexer": "ipython3",
   "version": "3.7.0"
  }
 },
 "nbformat": 4,
 "nbformat_minor": 2
}
