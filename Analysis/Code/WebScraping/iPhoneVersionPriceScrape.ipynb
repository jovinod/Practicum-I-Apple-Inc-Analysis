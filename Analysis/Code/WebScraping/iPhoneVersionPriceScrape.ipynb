{
 "cells": [
  {
   "cell_type": "markdown",
   "metadata": {},
   "source": [
    "### iPhone Version & Price\n",
    "Just the number of iPhones sold in not a clear measure of its impact to the total revenue. We also need to look at the pricing infromation to see if over hthe years the pricing has changed. For this we need to scrape the data from a reliable source in this case Wikipedia. The key fields would be\n",
    "* Version\n",
    "* Pricing Information"
   ]
  },
  {
   "cell_type": "markdown",
   "metadata": {},
   "source": [
    "#### Step 1 - Import the required packages\n",
    "There is a built in library for getting data from wikipedia. In order to be able to use that we will install the required package first using the `pip install wikipedia` command. Next we need to import the required packages to memory to be able to use them."
   ]
  },
  {
   "cell_type": "code",
   "execution_count": 1,
   "metadata": {},
   "outputs": [],
   "source": [
    "import wikipedia as wp\n",
    "import pandas as pd"
   ]
  },
  {
   "cell_type": "markdown",
   "metadata": {},
   "source": [
    "#### Step 2 : Get the data\n",
    "Populate the dataframe with the data for iphone releases. Wikipedia package provides a built in function to read the tables from the wikipedia page. The table we are interested in is sequentially numbered 2, starting from 0. We need to provide the page title - **iPhone** in this case to fetch the table information."
   ]
  },
  {
   "cell_type": "code",
   "execution_count": 2,
   "metadata": {},
   "outputs": [
    {
     "data": {
      "text/html": [
       "<div>\n",
       "<style scoped>\n",
       "    .dataframe tbody tr th:only-of-type {\n",
       "        vertical-align: middle;\n",
       "    }\n",
       "\n",
       "    .dataframe tbody tr th {\n",
       "        vertical-align: top;\n",
       "    }\n",
       "\n",
       "    .dataframe thead th {\n",
       "        text-align: right;\n",
       "    }\n",
       "</style>\n",
       "<table border=\"1\" class=\"dataframe\">\n",
       "  <thead>\n",
       "    <tr style=\"text-align: right;\">\n",
       "      <th></th>\n",
       "      <th>0</th>\n",
       "      <th>1</th>\n",
       "      <th>2</th>\n",
       "      <th>3</th>\n",
       "      <th>4</th>\n",
       "      <th>5</th>\n",
       "      <th>6</th>\n",
       "    </tr>\n",
       "  </thead>\n",
       "  <tbody>\n",
       "    <tr>\n",
       "      <th>0</th>\n",
       "      <td>iPhone</td>\n",
       "      <td>Released with</td>\n",
       "      <td>Release date</td>\n",
       "      <td>Final supported OS</td>\n",
       "      <td>Support ended</td>\n",
       "      <td>Support lifespan</td>\n",
       "      <td>Launch price</td>\n",
       "    </tr>\n",
       "    <tr>\n",
       "      <th>1</th>\n",
       "      <td>iPhone</td>\n",
       "      <td>iPhone OS 1.0</td>\n",
       "      <td>June 29, 2007</td>\n",
       "      <td>iPhone OS 3.1.3</td>\n",
       "      <td>June 20, 2010</td>\n",
       "      <td>2 years, 11 months</td>\n",
       "      <td>$499/$599*</td>\n",
       "    </tr>\n",
       "    <tr>\n",
       "      <th>2</th>\n",
       "      <td>iPhone 3G</td>\n",
       "      <td>iPhone OS 2.0</td>\n",
       "      <td>July 11, 2008</td>\n",
       "      <td>iOS 4.2.1</td>\n",
       "      <td>March 3, 2011</td>\n",
       "      <td>2 years, 7 months</td>\n",
       "      <td>$199/$299*</td>\n",
       "    </tr>\n",
       "    <tr>\n",
       "      <th>3</th>\n",
       "      <td>iPhone 3GS</td>\n",
       "      <td>iPhone OS 3.0</td>\n",
       "      <td>June 19, 2009</td>\n",
       "      <td>iOS 6.1.6</td>\n",
       "      <td>September 18, 2013</td>\n",
       "      <td>4 years, 2 months</td>\n",
       "      <td>$199/$299*</td>\n",
       "    </tr>\n",
       "    <tr>\n",
       "      <th>4</th>\n",
       "      <td>iPhone 4</td>\n",
       "      <td>iOS 4</td>\n",
       "      <td>June 21, 2010</td>\n",
       "      <td>iOS 7.1.2</td>\n",
       "      <td>September 17, 2014</td>\n",
       "      <td>4 years, 2 months</td>\n",
       "      <td>$199/$299*</td>\n",
       "    </tr>\n",
       "  </tbody>\n",
       "</table>\n",
       "</div>"
      ],
      "text/plain": [
       "            0              1              2                   3  \\\n",
       "0      iPhone  Released with   Release date  Final supported OS   \n",
       "1      iPhone  iPhone OS 1.0  June 29, 2007     iPhone OS 3.1.3   \n",
       "2   iPhone 3G  iPhone OS 2.0  July 11, 2008           iOS 4.2.1   \n",
       "3  iPhone 3GS  iPhone OS 3.0  June 19, 2009           iOS 6.1.6   \n",
       "4    iPhone 4          iOS 4  June 21, 2010           iOS 7.1.2   \n",
       "\n",
       "                    4                   5             6  \n",
       "0       Support ended    Support lifespan  Launch price  \n",
       "1       June 20, 2010  2 years, 11 months    $499/$599*  \n",
       "2       March 3, 2011   2 years, 7 months    $199/$299*  \n",
       "3  September 18, 2013   4 years, 2 months    $199/$299*  \n",
       "4  September 17, 2014   4 years, 2 months    $199/$299*  "
      ]
     },
     "execution_count": 2,
     "metadata": {},
     "output_type": "execute_result"
    }
   ],
   "source": [
    "# get the html source\n",
    "html = wp.page(\"iPhone\").html().encode(\"UTF-8\")\n",
    "\n",
    "# read the table information for versions and pricing\n",
    "iPhone = pd.read_html(html)[2]\n",
    "\n",
    "# check if the data is populated \n",
    "iPhone.head()"
   ]
  },
  {
   "cell_type": "markdown",
   "metadata": {},
   "source": [
    "#### Step 3 - Write data to file\n",
    "This data can now be copied to a file to be used for our analysis in tableau"
   ]
  },
  {
   "cell_type": "code",
   "execution_count": 3,
   "metadata": {},
   "outputs": [],
   "source": [
    "# copy the data to an excel sheet\n",
    "iPhone.to_excel(\"iphone_pricing_version.xlsx\")"
   ]
  }
 ],
 "metadata": {
  "kernelspec": {
   "display_name": "Python 3",
   "language": "python",
   "name": "python3"
  },
  "language_info": {
   "codemirror_mode": {
    "name": "ipython",
    "version": 3
   },
   "file_extension": ".py",
   "mimetype": "text/x-python",
   "name": "python",
   "nbconvert_exporter": "python",
   "pygments_lexer": "ipython3",
   "version": "3.7.0"
  }
 },
 "nbformat": 4,
 "nbformat_minor": 2
}
