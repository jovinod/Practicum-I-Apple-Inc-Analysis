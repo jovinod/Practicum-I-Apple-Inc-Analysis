{
 "cells": [
  {
   "cell_type": "markdown",
   "metadata": {},
   "source": [
    "### Scrape the iphone information from wikipedia\n",
    "* Version\n",
    "* Pricing Information"
   ]
  },
  {
   "cell_type": "markdown",
   "metadata": {},
   "source": [
    "#### Step 1 - Import the required packages"
   ]
  },
  {
   "cell_type": "code",
   "execution_count": 8,
   "metadata": {},
   "outputs": [
    {
     "ename": "ImportError",
     "evalue": "Missing required dependencies ['numpy']",
     "output_type": "error",
     "traceback": [
      "\u001b[1;31m---------------------------------------------------------------------------\u001b[0m",
      "\u001b[1;31mImportError\u001b[0m                               Traceback (most recent call last)",
      "\u001b[1;32m<ipython-input-8-d4062e1b61ff>\u001b[0m in \u001b[0;36m<module>\u001b[1;34m\u001b[0m\n\u001b[1;32m----> 1\u001b[1;33m \u001b[1;32mimport\u001b[0m \u001b[0mpandas\u001b[0m \u001b[1;32mas\u001b[0m \u001b[0mpd\u001b[0m\u001b[1;33m\u001b[0m\u001b[0m\n\u001b[0m\u001b[0;32m      2\u001b[0m \u001b[1;31m# in order to write records to a csv file\u001b[0m\u001b[1;33m\u001b[0m\u001b[1;33m\u001b[0m\u001b[0m\n\u001b[0;32m      3\u001b[0m \u001b[1;32mimport\u001b[0m \u001b[0mnumpy\u001b[0m \u001b[1;32mas\u001b[0m \u001b[0mnp\u001b[0m\u001b[1;33m\u001b[0m\u001b[0m\n\u001b[0;32m      4\u001b[0m \u001b[1;31m# required for all the interactions with the browser\u001b[0m\u001b[1;33m\u001b[0m\u001b[1;33m\u001b[0m\u001b[0m\n\u001b[0;32m      5\u001b[0m \u001b[1;32mfrom\u001b[0m \u001b[0mselenium\u001b[0m \u001b[1;32mimport\u001b[0m \u001b[0mwebdriver\u001b[0m\u001b[1;33m\u001b[0m\u001b[0m\n",
      "\u001b[1;32mD:\\install\\anaconda\\lib\\site-packages\\pandas\\__init__.py\u001b[0m in \u001b[0;36m<module>\u001b[1;34m\u001b[0m\n\u001b[0;32m     17\u001b[0m \u001b[1;32mif\u001b[0m \u001b[0mmissing_dependencies\u001b[0m\u001b[1;33m:\u001b[0m\u001b[1;33m\u001b[0m\u001b[0m\n\u001b[0;32m     18\u001b[0m     raise ImportError(\n\u001b[1;32m---> 19\u001b[1;33m         \"Missing required dependencies {0}\".format(missing_dependencies))\n\u001b[0m\u001b[0;32m     20\u001b[0m \u001b[1;32mdel\u001b[0m \u001b[0mhard_dependencies\u001b[0m\u001b[1;33m,\u001b[0m \u001b[0mdependency\u001b[0m\u001b[1;33m,\u001b[0m \u001b[0mmissing_dependencies\u001b[0m\u001b[1;33m\u001b[0m\u001b[0m\n\u001b[0;32m     21\u001b[0m \u001b[1;33m\u001b[0m\u001b[0m\n",
      "\u001b[1;31mImportError\u001b[0m: Missing required dependencies ['numpy']"
     ]
    }
   ],
   "source": [
    "import pandas as pd\n",
    "# in order to write records to a csv file \n",
    "import numpy as np\n",
    "# required for all the interactions with the browser\n",
    "from selenium import webdriver\n",
    "# required to select various elements on the page by id, name, css, xpath etc\n",
    "from selenium.webdriver.common.by import By\n",
    "# to be able to use the standard Keys like RETURN\n",
    "from selenium.webdriver.common.keys import Keys\n",
    "# required for manupalting data using data frames etc.\n",
    "import csv\n",
    "# induce sleep to wait for navigation to new url\n",
    "import time\n",
    "from time import sleep"
   ]
  },
  {
   "cell_type": "markdown",
   "metadata": {},
   "source": [
    "#### Step 2 - Initialize the selenium chrome driver"
   ]
  },
  {
   "cell_type": "code",
   "execution_count": null,
   "metadata": {},
   "outputs": [],
   "source": [
    "locationWebDriver = \"D:/webdriver/chromedriver.exe\"\n",
    "driver = webdriver.Chrome(locationWebDriver)"
   ]
  },
  {
   "cell_type": "markdown",
   "metadata": {},
   "source": [
    "#### Step 3 - Scrape the data from wikipedia"
   ]
  },
  {
   "cell_type": "code",
   "execution_count": null,
   "metadata": {},
   "outputs": [],
   "source": [
    "try:\n",
    "    # navigate to the website youtube.com\n",
    "    driver.get(\"https://youtube.com\")\n",
    "    # find the element by the id search on the page\n",
    "    search_box = driver.find_element_by_id(\"search\")\n",
    "    search_box.send_keys(\"Kishore kumar\")\n",
    "\n",
    "    # one option is to use ENTER \n",
    "    #search_box.send_keys(Keys.RETURN)\n",
    "\n",
    "    # alternate option is to find the button element and press it \n",
    "    driver.find_element_by_id('search-icon-legacy').click()\n",
    "    sleep(5)\n",
    "    \n",
    "    index = 1\n",
    "    songList = []\n",
    "    # get the DOM for the new url to identify elements\n",
    "    driver.get(driver.current_url)\n",
    "    time.sleep(5)\n",
    "    driver.execute_script('window.scrollTo(1, 3000);')\n",
    "    time.sleep(5)\n",
    "    songElements = driver.find_elements_by_xpath('//div[@id=\"dismissable\"]')\n",
    "    for song in songElements:\n",
    "        try:\n",
    "            title = song.find_element_by_xpath('.//*[@id=\"video-title\"]').get_attribute(\"title\")\n",
    "        except:\n",
    "            title = \"\"\n",
    "        try:\n",
    "            url =  song.find_element_by_xpath('.//*[@id=\"video-title\"]').get_attribute(\"href\")\n",
    "        except:\n",
    "            url = \"\"\n",
    "        try:\n",
    "            channel = song.find_element_by_xpath('.//*[@id=\"byline\"]').get_attribute(\"title\")\n",
    "        except:\n",
    "            channel = \"\"\n",
    "        try:\n",
    "            views = song.find_element_by_xpath('.//*[@id=\"metadata-line\"]/span[1]').text\n",
    "        except:\n",
    "            views = \"\"\n",
    "\n",
    "        # write the data to a list. We will use this to finally write the data to a file\n",
    "        songList.append((index,\n",
    "                         title, \n",
    "                         url, \n",
    "                         channel, \n",
    "                         views))\n",
    "\n",
    "        # increment the index to break at count 10\n",
    "        index = index + 1\n",
    "        if(index>10):\n",
    "            break\n",
    "\n",
    "    cols=['pkey','title','url','channel','views']\n",
    "    songData = pd.DataFrame(songList, columns=cols)\n",
    "    print('Data frame created')\n",
    "    \n",
    "except Exception as e:\n",
    "    print(e)\n",
    "    driver.close()"
   ]
  }
 ],
 "metadata": {
  "kernelspec": {
   "display_name": "Python 3",
   "language": "python",
   "name": "python3"
  },
  "language_info": {
   "codemirror_mode": {
    "name": "ipython",
    "version": 3
   },
   "file_extension": ".py",
   "mimetype": "text/x-python",
   "name": "python",
   "nbconvert_exporter": "python",
   "pygments_lexer": "ipython3",
   "version": "3.6.0"
  }
 },
 "nbformat": 4,
 "nbformat_minor": 2
}
