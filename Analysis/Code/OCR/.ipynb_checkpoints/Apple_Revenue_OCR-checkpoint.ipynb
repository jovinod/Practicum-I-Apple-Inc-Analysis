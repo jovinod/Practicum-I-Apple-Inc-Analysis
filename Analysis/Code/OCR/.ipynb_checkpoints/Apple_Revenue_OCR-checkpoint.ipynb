{
 "cells": [
  {
   "cell_type": "markdown",
   "metadata": {},
   "source": [
    "### Read Apple Inc. Q4 Revenue from PDF\n",
    "This code here reads a pdf file to get the Apple Revenue numbers required for our analysis. As a prerequisite, the following packages needs to be installed using command line - \n",
    "* `pip install PyPDF2` \n",
    "* `pip install textract` \n",
    "* `pip install nltk`"
   ]
  },
  {
   "cell_type": "markdown",
   "metadata": {},
   "source": [
    "### Import the required packages"
   ]
  },
  {
   "cell_type": "code",
   "execution_count": 2,
   "metadata": {},
   "outputs": [
    {
     "name": "stderr",
     "output_type": "stream",
     "text": [
      "D:\\install\\anaconda\\lib\\site-packages\\sklearn\\externals\\joblib\\_multiprocessing_helpers.py:28: UserWarning: Module use of python36.dll conflicts with this version of Python..  joblib will operate in serial mode\n",
      "  warnings.warn('%s.  joblib will operate in serial mode' % (e,))\n"
     ]
    }
   ],
   "source": [
    "import PyPDF2 \n",
    "import textract\n",
    "from nltk.tokenize import word_tokenize\n",
    "from nltk.corpus import stopwords"
   ]
  },
  {
   "cell_type": "markdown",
   "metadata": {},
   "source": [
    "### Read the PDF file"
   ]
  },
  {
   "cell_type": "code",
   "execution_count": null,
   "metadata": {},
   "outputs": [],
   "source": [
    "# input the file name\n",
    "filename = '../../Data/Q4-18-Revenue-Summary.pdf' \n",
    "\n",
    "# opens the file to read the content\n",
    "pdfFileObj = open(filename,'rb')\n",
    "\n",
    "# pdfReader variable is a readable object that will be parsed\n",
    "pdfReader = PyPDF2.PdfFileReader(pdfFileObj)\n",
    "\n",
    "# get the total number of pages\n",
    "num_pages = pdfReader.numPages\n",
    "count = 0\n",
    "text = \"\"\n",
    "\n",
    "# read data from all pages\n",
    "while count < num_pages:\n",
    "    pageObj = pdfReader.getPage(count)\n",
    "    count +=1\n",
    "    text += pageObj.extractText()\n",
    "\n",
    "# If no text found for files that are scanned, we need to use OCR\n",
    "if text != \"\":\n",
    "   text = text\n",
    "# run the OCR library textract to convert scanned/image based PDF files into text\n",
    "else:\n",
    "   text = textract.process(fileurl, method='tesseract', language='eng')\n",
    "\n",
    "pdfFileObj.close()"
   ]
  },
  {
   "cell_type": "markdown",
   "metadata": {},
   "source": [
    "### Write the text to a file"
   ]
  },
  {
   "cell_type": "code",
   "execution_count": null,
   "metadata": {},
   "outputs": [],
   "source": [
    "file = open(“data.txt”,”w”) \n",
    "file.write(text) \n",
    "file.close() "
   ]
  }
 ],
 "metadata": {
  "kernelspec": {
   "display_name": "Python 3",
   "language": "python",
   "name": "python3"
  },
  "language_info": {
   "codemirror_mode": {
    "name": "ipython",
    "version": 3
   },
   "file_extension": ".py",
   "mimetype": "text/x-python",
   "name": "python",
   "nbconvert_exporter": "python",
   "pygments_lexer": "ipython3",
   "version": "3.7.0"
  }
 },
 "nbformat": 4,
 "nbformat_minor": 2
}
